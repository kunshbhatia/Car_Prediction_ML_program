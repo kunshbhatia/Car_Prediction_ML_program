{
 "cells": [
  {
   "cell_type": "markdown",
   "id": "66ad5526-b3eb-498d-8a04-7a65d971eca2",
   "metadata": {},
   "source": [
    "### Now using streamlit convert this into a car price prediction webiste\n",
    "Check the File :- Car_price_code.py"
   ]
  },
  {
   "cell_type": "code",
   "execution_count": null,
   "id": "19914b77-bff0-49a2-bbfb-23b1a647674a",
   "metadata": {
    "editable": true,
    "slideshow": {
     "slide_type": ""
    },
    "tags": []
   },
   "outputs": [],
   "source": [
    "import pandas as pd"
   ]
  },
  {
   "cell_type": "code",
   "execution_count": null,
   "id": "288a04f1-eebf-42ed-b8d9-a266bce33521",
   "metadata": {
    "editable": true,
    "slideshow": {
     "slide_type": ""
    },
    "tags": []
   },
   "outputs": [],
   "source": [
    "df = pd.read_csv(\"Vehicle_final.csv\")\n",
    "df = df.drop([\"exterior_color\",\"interior_color\"],axis=1)\n",
    "df.reset_index(drop=True,inplace=True)\n",
    "X = df[['make','model','year',\"fuel\",\"mileage\",\"transmission\",\"body\",\"doors\",\"drivetrain\"]]\n",
    "Y = df['price']\n",
    "\n",
    "from sklearn.model_selection import train_test_split\n",
    "X_train,X_test,Y_train,Y_test = train_test_split(X,Y,test_size=0.30,random_state=42)"
   ]
  },
  {
   "cell_type": "code",
   "execution_count": null,
   "id": "cbf6a50c-d2e4-4a13-b060-b6e71d27fb59",
   "metadata": {
    "editable": true,
    "slideshow": {
     "slide_type": ""
    },
    "tags": []
   },
   "outputs": [],
   "source": [
    "make = [\"Chrysler\",\"RAM\",\"Jeep\",\"Dodge\",\"GMC\",\"Nissan\",\"Ford\",\"Chevrolet\",\"Kia\",\"Hyundai\",\"Subaru\",\"Mazda\",\"Toyota\",\"Honda\",\"Volkswagen\",\"Buick\",\"Volvo\",\"Lincoln\",\"Audi\",\"Acura\",\"INFINITI\",\"Cadillac\",\"Genesis\",\"Jaguar\",\"Land Rover\",\"Lexus\",\"BMW\",\"Mercedes-Benz\"]\n",
    "model = ['Forte', 'Sentra', 'Versa', 'Soul', 'Trax', 'HR-V', 'Encore GX', 'Kicks', 'Impreza', 'Jetta', 'Altima', 'Corolla', 'Elantra HEV', 'Niro', 'Seltos', 'CX-70', 'CX-90', 'Legacy', 'Sonata', 'Sonata Hybrid', 'Tucson', 'Tucson Hybrid', 'Kona', 'Sportage', 'Sportage Hybrid', 'Compass', 'Equinox', 'Equinox EV', 'CR-V', 'CR-V Hybrid', 'Rogue', 'RAV4 Prime', 'Outback', 'Santa Fe', 'Taos', 'Murano', 'Bronco Sport', 'Trailblazer', 'Edge', 'Pacifica', 'Pacifica Hybrid', 'Voyager', 'CX-90 PHEV', 'ID.4', 'IONIQ 5', 'IONIQ 6', 'EV6', 'EV9', 'Prologue', 'Pathfinder', 'Palisade', 'Telluride', 'Grand Cherokee', 'Grand Cherokee L', 'Grand Cherokee 4xe', 'Wagoneer', 'Wagoneer L', 'Grand Wagoneer', 'Wrangler', 'Wrangler 4xe', 'Gladiator', 'Bronco', 'Expedition', 'Transit Connect', 'Transit-150', 'Transit-250', 'Transit-350', 'F-150', 'F-350', '2500', '3500', 'Silverado 1500', 'Silverado 2500', 'Sierra 1500', 'Sierra 2500', 'Sierra 3500', 'Titan', 'Frontier', 'Durango', 'Charger', 'Hornet', 'XT5', 'XT6', 'Enclave', 'Envista', 'Corsair', 'Nautilus', 'ZDX', 'QX50', 'QX55', 'LYRIQ', 'X3', 'X7', 'M235 Gran Coupe', '530', '740', 'i4 Gran Coupe', 'i5', 'i7', 'A3', 'A5 Sportback', 'SQ5', 'Q5 e', 'Q8 e-tron', 'SQ8 e-tron', 'RS e-tron GT', 'GLE 350', 'GLE 450', 'GLS 450', 'AMG C 43', 'AMG GLE 53', 'GLA 250', 'MX-5 Miata RF', 'Range Rover Evoque', 'Discovery Sport', 'XC90 Recharge Plug-In Hybrid', 'Electrified G80', 'Electrified GV70', 'S60 Recharge Plug-In Hybrid', 'EQE 350+', 'EQS 450', 'I-PACE', 'C40 Recharge Pure Electric', 'Envision', '300', 'Odyssey', 'Savana 2500', 'Sprinter 2500', 'Sprinter 3500', 'ProMaster 1500', 'ProMaster 2500', 'ProMaster 3500', 'Atlas', 'Atlas Cross Sport', 'Explorer', 'Defender', 'Escape', 'Santa Cruz', 'Passport', 'Yukon XL', 'Blazer EV', 'Terrain', 'Mustang Mach-E', 'Blazer', 'MDX', 'Tundra Hybrid', 'Ranger', 'Solterra', 'RX 500h', 'Sorento', 'Sorento Hybrid', 'Corolla Cross', 'Maverick']\n",
    "fuel = ['Gasoline','Diesel','E85 Flex Fuel','Hybrid','Diesel (B20 capable)',\"Electric\",'PHEV Hybrid Fuel',]\n",
    "transmission = ['8-Speed Automatic', 'Automatic', '6-Speed Automatic', 'Automatic CVT', '10-Speed Automatic', '8-Speed Automatic with Auto-Shift', '1-Speed Automatic', '7-Speed DSG Automatic with Tiptronic', '8-Speed Automatic with Tiptronic', '9-Speed Automatic', '8-speed automatic', 'CVT', '7-Speed Automatic S tronic', '7-Speed DSGA? Automatic w/ 4MO', '6-Speed Automatic Electronic with Overdrive', '9-Speed 948TE Automatic', '8-Speed A/T', 'Variable', '7-Speed Automatic with Auto-Shift', '9-Speed A/T', '9 Spd Automatic', 'Aisin 6-Speed Automatic', '6-Spd Aisin F21-250 PHEV Auto Trans', '62 kWh battery', '10-Speed Shiftable Automatic', '9-speed automatic', '6-SPEED AUTOMATIC', 'automatic w/paddle shifters', 'A/T', '8-Speed Shiftable Automatic', '6-Speed DCT Automatic', '6-Speed A/T', '(CVT) CONT VAR.', 'CVT with Xtronic', '8 Speed Dual Clutch', '10-Speed Automatic with Overdrive', '8-Speed Automatic Sport']\n",
    "body = ['SUV', 'Pickup Truck', 'Sedan', 'Passenger Van', 'Cargo Van', 'Hatchback', 'Convertible', 'Minivan']\n",
    "drivetrain = ['Four-wheel Drive', 'All-wheel Drive', 'Rear-wheel Drive', 'Front-wheel Drive']\n",
    "year = [\"2023\",\"2024\",\"2025\"]"
   ]
  },
  {
   "cell_type": "code",
   "execution_count": null,
   "id": "bf66f87f-a413-4859-8975-0f09aa0933a8",
   "metadata": {
    "editable": true,
    "slideshow": {
     "slide_type": ""
    },
    "tags": []
   },
   "outputs": [],
   "source": [
    "from sklearn.preprocessing import OrdinalEncoder\n",
    "encode_make = OrdinalEncoder(categories=[make])\n",
    "encode_model = OrdinalEncoder(categories=[model])\n",
    "encode_fuel = OrdinalEncoder(categories=[fuel])\n",
    "encode_transmission = OrdinalEncoder(categories=[transmission])\n",
    "encode_body = OrdinalEncoder(categories=[body])\n",
    "encode_drivetrain = OrdinalEncoder(categories=[drivetrain])\n",
    "encode_year = OrdinalEncoder(categories=[year])\n",
    "\n",
    "X_train['make'] = encode_make.fit_transform(X_train[['make']])\n",
    "X_train['model'] = encode_model.fit_transform(X_train[['model']])\n",
    "X_train['transmission'] = encode_transmission.fit_transform(X_train[['transmission']])\n",
    "X_train['fuel'] = encode_fuel.fit_transform(X_train[['fuel']])\n",
    "X_train['body'] = encode_body.fit_transform(X_train[['body']])\n",
    "X_train['drivetrain'] = encode_drivetrain.fit_transform(X_train[['drivetrain']])\n",
    "X_train['year'] = encode_year.fit_transform(X_train[['year']])\n",
    "\n",
    "X_test['make'] = encode_make.transform(X_test[['make']])\n",
    "X_test['model'] = encode_model.transform(X_test[['model']])\n",
    "X_test['transmission'] = encode_transmission.transform(X_test[['transmission']])\n",
    "X_test['fuel'] = encode_fuel.transform(X_test[['fuel']])\n",
    "X_test['body'] = encode_body.transform(X_test[['body']])\n",
    "X_test['drivetrain'] = encode_drivetrain.transform(X_test[['drivetrain']])\n",
    "X_test['year'] = encode_year.transform(X_test[['year']])"
   ]
  },
  {
   "cell_type": "code",
   "execution_count": null,
   "id": "73d3a5a7-c7a9-480e-af87-02ea4cf5ebf0",
   "metadata": {
    "editable": true,
    "slideshow": {
     "slide_type": ""
    },
    "tags": []
   },
   "outputs": [],
   "source": [
    "from sklearn.linear_model import LinearRegression,Lasso,Ridge,ElasticNet\n",
    "from sklearn.svm import SVR\n",
    "from sklearn.neighbors import KNeighborsRegressor\n",
    "from sklearn.tree import DecisionTreeRegressor\n",
    "from sklearn.ensemble import RandomForestRegressor,AdaBoostRegressor,GradientBoostingRegressor\n",
    "from xgboost import XGBRegressor\n",
    "from sklearn.metrics import r2_score,mean_absolute_error\n",
    "\n",
    "models = {\n",
    "    \"Linear Regression\" : LinearRegression(),\n",
    "    \"Lasso\" : Lasso(),\n",
    "    \"Ridge\" : Ridge(),\n",
    "    \"ElasticNet\" : ElasticNet(),\n",
    "    \"SVR\" : SVR(),\n",
    "    \"K Nearest\" : KNeighborsRegressor(),\n",
    "    \"Decision Tree\" : DecisionTreeRegressor(),\n",
    "    \"Ada Boost\" : AdaBoostRegressor(),\n",
    "    \"Random Forest\" : RandomForestRegressor(),\n",
    "    \"Gradient\" : GradientBoostingRegressor(),\n",
    "    \"XGB\" : XGBRegressor()\n",
    "}\n",
    "\n",
    "for i in range(len(list(models))):\n",
    "    model = list(models.values())[i]\n",
    "    model.fit(X_train,Y_train)\n",
    "    Y_pred = model.predict(X_test)\n",
    "\n",
    "    acc = r2_score(Y_test,Y_pred)\n",
    "    mae = mean_absolute_error(Y_test,Y_pred)\n",
    "    print(f\"R2 value for {list(models.keys())[i]} : \", acc*100)\n",
    "    print(f\"MAE value for {list(models.keys())[i]} : \", mae)\n",
    "    print(\"-\"*50) # Just to make a boundary"
   ]
  },
  {
   "cell_type": "code",
   "execution_count": null,
   "id": "3af0a9e7-ef8b-4aa0-9872-da9421bc1eff",
   "metadata": {},
   "outputs": [],
   "source": [
    "#Hyperparameter those who are getting a good R2 score compared to others\n",
    "\n",
    "from sklearn.model_selection import RandomizedSearchCV\n",
    "from sklearn.compose import ColumnTransformer\n",
    "\n",
    "Decision_params = {\"criterion\" : [\"squared_error\", \"friedman_mse\", \"absolute_error\"],\n",
    "                   \"splitter\" : [\"best\", \"random\"],\n",
    "                   \"max_depth\" : [5,10,20,30,None]\n",
    "                  }\n",
    "\n",
    "Random_params = {\"n_estimators\" : [50,100,150,200,300],\n",
    "                 \"criterion\" : [\"squared_error\", \"friedman_mse\", \"absolute_error\"],\n",
    "                 \"max_depth\" : [5,10,20,30,None]\n",
    "                }\n",
    "\n",
    "Grad_params = {\"loss\" : ['squared_error', 'absolute_error', 'huber', 'quantile'],\n",
    "               \"n_estimators\" : [50,100,150,200,300],\n",
    "               \"criterion\" : ['friedman_mse', 'squared_error'],\n",
    "               \"max_depth\" : [5,10,20,30,None]}\n",
    "\n",
    "XGB_params = {\"n_estimators\" : [50,100,150,200,300],\n",
    "              \"max_depth\" : [5,10,20,30,None]\n",
    "             }\n",
    "    \n",
    "               \n",
    "processing = [\n",
    "        (\"Random Forest\",RandomForestRegressor(),Random_params),\n",
    "        (\"Decision Tree\",DecisionTreeRegressor(),Decision_params),\n",
    "        (\"Gradient\",GradientBoostingRegressor(),Grad_params),\n",
    "        (\"XGB\",XGBRegressor(),XGB_params)\n",
    "    ]\n",
    "\n",
    "for name,model,param in processing:\n",
    "    random = RandomizedSearchCV(estimator=model,\n",
    "                                param_distributions=param,\n",
    "                                n_jobs=-1,\n",
    "                                verbose=3,\n",
    "                                cv=5)\n",
    "    random.fit(X_train,Y_train)\n",
    "    Y_pred = random.predict(X_test)\n",
    "\n",
    "    print(f\"Best Paramater for {name} : \" , random.best_params_)"
   ]
  },
  {
   "cell_type": "code",
   "execution_count": null,
   "id": "e09b1627",
   "metadata": {},
   "outputs": [],
   "source": [
    "models = {\n",
    "    \"Random Forest\" : RandomForestRegressor(n_estimators = 200, max_depth = 20, criterion = 'absolute_error'),\n",
    "    \"Decision Tree\" : DecisionTreeRegressor(splitter = 'random', max_depth = 20, criterion =  'friedman_mse'),\n",
    "    \"Gradient\" : GradientBoostingRegressor(n_estimators= 100, max_depth= 20, loss= 'absolute_error', criterion= 'friedman_mse'),\n",
    "    \"XGB\" : XGBRegressor(n_estimators= 50, max_depth= 5)\n",
    "}\n",
    "\n",
    "for i in range(len(list(models))):\n",
    "    model = list(models.values())[i]\n",
    "    model.fit(X_train,Y_train)\n",
    "    Y_pred = model.predict(X_test)\n",
    "\n",
    "    acc = r2_score(Y_test,Y_pred)\n",
    "    mae = mean_absolute_error(Y_test,Y_pred)\n",
    "    print(f\"R2 value for {list(models.keys())[i]} : \", acc*100)\n",
    "    print(f\"MAE value for {list(models.keys())[i]} : \", mae)\n",
    "    print(\"-\"*50) # Just to make a boundary"
   ]
  },
  {
   "cell_type": "code",
   "execution_count": null,
   "id": "f48f5610-1af5-4325-9c23-4a9d1906cc38",
   "metadata": {
    "editable": true,
    "slideshow": {
     "slide_type": ""
    },
    "tags": []
   },
   "outputs": [],
   "source": [
    "#Choosing the best one with best parameters i.e. Random Forest\n",
    "\n",
    "from sklearn.ensemble import RandomForestRegressor\n",
    "regg = RandomForestRegressor(n_estimators=100, max_depth=10 , criterion= 'squared_error')\n",
    "regg.fit(X_train,Y_train)\n",
    "Y_pred = regg.predict(X_test)"
   ]
  },
  {
   "cell_type": "code",
   "execution_count": null,
   "id": "a7c8e57e",
   "metadata": {},
   "outputs": [],
   "source": [
    "#Enter the data from the table (just to check) :- df.loc[234] , otherwise the below code would not run\n",
    "\n",
    "NAME = input(\"Enter The Name: \")\n",
    "MODEL = input(\"Enter The Model: \")\n",
    "YEAR = input(\"Enter The Year: \")\n",
    "FUEL = input(\"Enter The Fuel: \")\n",
    "MILEAGE = input(\"Enter The Mileage: \")\n",
    "TRANSMISSION = input(\"Enter The Transmission:\")\n",
    "BODY = input(\"Enter The Body: \")\n",
    "DOOR = input(\"Enter The Number of Doors: \")\n",
    "DATATRAIN = input(\"Enter The Datatrain: \")"
   ]
  },
  {
   "cell_type": "code",
   "execution_count": null,
   "id": "04cfa1c2-e3da-4652-8265-6e9d6ebd5338",
   "metadata": {
    "editable": true,
    "slideshow": {
     "slide_type": ""
    },
    "tags": []
   },
   "outputs": [],
   "source": [
    "# Make sure you have entered the data for the columns using the above cell\n",
    "\n",
    "columns = ['make', 'model', 'year', 'fuel', 'mileage', 'transmission', 'body','doors', 'drivetrain']\n",
    "data = pd.DataFrame([[encode_make.transform([[NAME]]),encode_model.transform([[MODEL]]),YEAR,encode_fuel.transform([[FUEL]]),MILEAGE,encode_transmission.transform([[TRANSMISSION]]),encode_body.transform([[BODY]]),DOOR,encode_drivetrain.transform([[DATATRAIN]])]],columns=columns)\n",
    "regg.predict(data)"
   ]
  },
  {
   "cell_type": "markdown",
   "id": "7f22f5f7-2ddc-4c2b-8dfa-415ab3a69ef7",
   "metadata": {},
   "source": []
  },
  {
   "cell_type": "markdown",
   "id": "c288c063",
   "metadata": {},
   "source": []
  }
 ],
 "metadata": {
  "kernelspec": {
   "display_name": "base",
   "language": "python",
   "name": "python3"
  },
  "language_info": {
   "codemirror_mode": {
    "name": "ipython",
    "version": 3
   },
   "file_extension": ".py",
   "mimetype": "text/x-python",
   "name": "python",
   "nbconvert_exporter": "python",
   "pygments_lexer": "ipython3",
   "version": "3.12.7"
  }
 },
 "nbformat": 4,
 "nbformat_minor": 5
}
